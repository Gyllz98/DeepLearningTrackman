{
 "cells": [
  {
   "cell_type": "code",
   "execution_count": 1,
   "metadata": {},
   "outputs": [],
   "source": [
    "import torch\n",
    "import numpy as np\n",
    "from torchvision import transforms\n",
    "from custom_transforms import  NormalizeSpectrogram, ToTensor, InterpolateSpectrogram\n",
    "from SearchNet import SearchNet\n",
    "\n",
    "def predict_single_spectrogram(spectrogram_array, DEVICE):\n",
    "    # Apply transforms individually to handle the different input types\n",
    "    # NormalizeSpectrogram expects numpy array\n",
    "    normalize = NormalizeSpectrogram()\n",
    "    normalized_spectrogram = normalize(spectrogram_array)\n",
    "    \n",
    "    # ToTensor expects numpy array and returns tensor\n",
    "    to_tensor = ToTensor()\n",
    "    tensor_spectrogram = to_tensor(normalized_spectrogram)\n",
    "    \n",
    "    # InterpolateSpectrogram expects tensor\n",
    "    interpolate = InterpolateSpectrogram()\n",
    "    interpolated_spectrogram = interpolate(tensor_spectrogram)\n",
    "    \n",
    "    # Add batch dimension and move to device\n",
    "    input_tensor = interpolated_spectrogram.unsqueeze(0).to(DEVICE)\n",
    "    # Initialize and load model\n",
    "    model = SearchNet(0.10, 1.16, 0.75, 0.75).to(DEVICE)\n",
    "    model.load_state_dict(torch.load(\"final_model_final_model\"))#, map_location=torch.device('cpu')))\n",
    "    model.eval()\n",
    "\n",
    "    #Make prediction\n",
    "    with torch.no_grad():\n",
    "        prediction = model(input_tensor)\n",
    "    \n",
    "    return prediction.squeeze().cpu().numpy()"
   ]
  },
  {
   "cell_type": "code",
   "execution_count": 2,
   "metadata": {},
   "outputs": [
    {
     "name": "stderr",
     "output_type": "stream",
     "text": [
      "C:\\Users\\gtoft\\AppData\\Local\\Temp\\ipykernel_19720\\3679228442.py:25: FutureWarning: You are using `torch.load` with `weights_only=False` (the current default value), which uses the default pickle module implicitly. It is possible to construct malicious pickle data which will execute arbitrary code during unpickling (See https://github.com/pytorch/pytorch/blob/main/SECURITY.md#untrusted-models for more details). In a future release, the default value for `weights_only` will be flipped to `True`. This limits the functions that could be executed during unpickling. Arbitrary objects will no longer be allowed to be loaded via this mode unless they are explicitly allowlisted by the user via `torch.serialization.add_safe_globals`. We recommend you start setting `weights_only=True` for any use case where you don't have full control of the loaded file. Please open an issue on GitHub for any issues related to this experimental feature.\n",
      "  model.load_state_dict(torch.load(\"final_model_final_model\"))#, map_location=torch.device('cpu')))\n"
     ]
    },
    {
     "name": "stdout",
     "output_type": "stream",
     "text": [
      "Predicted Radial Velocity: -106.579\n"
     ]
    }
   ],
   "source": [
    "DEVICE = \"cuda\" if torch.cuda.is_available() else \"mps\" if torch.backends.mps.is_available() else \"cpu\"\n",
    "\n",
    "spectrogram_array = np.load(r\"ball_hit_spectrograms.npy\")\n",
    "\n",
    "prediction = predict_single_spectrogram(spectrogram_array, DEVICE)\n",
    "\n",
    "print(f'Predicted Radial Velocity: {prediction:.3f}')"
   ]
  },
  {
   "cell_type": "markdown",
   "metadata": {},
   "source": [
    "# Notes\n",
    "\n",
    "- Radial velocity is negative seeing as the ball is hit towards the radars\n",
    "- This is synthetic data (image can be seen synthetic_image.png) with no GT but for context, the prediction is more than what 99.999% of players are able to achieve"
   ]
  }
 ],
 "metadata": {
  "kernelspec": {
   "display_name": "deep_learn",
   "language": "python",
   "name": "python3"
  },
  "language_info": {
   "codemirror_mode": {
    "name": "ipython",
    "version": 3
   },
   "file_extension": ".py",
   "mimetype": "text/x-python",
   "name": "python",
   "nbconvert_exporter": "python",
   "pygments_lexer": "ipython3",
   "version": "3.10.14"
  }
 },
 "nbformat": 4,
 "nbformat_minor": 2
}
